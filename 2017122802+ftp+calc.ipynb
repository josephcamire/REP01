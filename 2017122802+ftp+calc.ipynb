{
 "cells": [
  {
   "cell_type": "code",
   "execution_count": 131,
   "metadata": {},
   "outputs": [],
   "source": [
    "import numpy as np\n",
    "\n",
    "import matplotlib.pyplot as plt"
   ]
  },
  {
   "cell_type": "code",
   "execution_count": 132,
   "metadata": {},
   "outputs": [],
   "source": [
    "fig = plt.figure()\n",
    "ax = fig.add_subplot(1,1,1)"
   ]
  },
  {
   "cell_type": "code",
   "execution_count": 133,
   "metadata": {},
   "outputs": [
    {
     "name": "stdout",
     "output_type": "stream",
     "text": [
      "[300 305 310 315 320 325 330 335 340 345 350 355 360 365 370 375 380 385\n",
      " 390 395 400]\n",
      "[ 76.   76.2  76.4  76.6  76.8  77.   77.2  77.4  77.6  77.8  78.   78.2\n",
      "  78.4  78.6  78.8  79.   79.2  79.4  79.6  79.8  80.   80.2  80.4  80.6\n",
      "  80.8  81.   81.2  81.4  81.6  81.8  82.   82.2  82.4  82.6  82.8  83.\n",
      "  83.2  83.4  83.6  83.8]\n"
     ]
    }
   ],
   "source": [
    "ftp = np.arange(300,401,5)\n",
    "wht = np.arange(76,84,0.2)\n",
    "print(ftp)\n",
    "print(wht)"
   ]
  },
  {
   "cell_type": "code",
   "execution_count": 134,
   "metadata": {},
   "outputs": [
    {
     "name": "stdout",
     "output_type": "stream",
     "text": [
      "167.2\n",
      "184.36\n"
     ]
    }
   ],
   "source": [
    "lbsmin = wht.min() * 2.2\n",
    "lbsmin = round(lbsmin,2)\n",
    "lbsmax = wht.max() * 2.2\n",
    "lbsmax = round(lbsmax,2)\n",
    "print(lbsmin)\n",
    "print(lbsmax)"
   ]
  },
  {
   "cell_type": "code",
   "execution_count": 135,
   "metadata": {},
   "outputs": [
    {
     "name": "stdout",
     "output_type": "stream",
     "text": [
      "[[ 76. ]\n",
      " [ 76.2]\n",
      " [ 76.4]\n",
      " [ 76.6]\n",
      " [ 76.8]\n",
      " [ 77. ]\n",
      " [ 77.2]\n",
      " [ 77.4]\n",
      " [ 77.6]\n",
      " [ 77.8]\n",
      " [ 78. ]\n",
      " [ 78.2]\n",
      " [ 78.4]\n",
      " [ 78.6]\n",
      " [ 78.8]\n",
      " [ 79. ]\n",
      " [ 79.2]\n",
      " [ 79.4]\n",
      " [ 79.6]\n",
      " [ 79.8]\n",
      " [ 80. ]\n",
      " [ 80.2]\n",
      " [ 80.4]\n",
      " [ 80.6]\n",
      " [ 80.8]\n",
      " [ 81. ]\n",
      " [ 81.2]\n",
      " [ 81.4]\n",
      " [ 81.6]\n",
      " [ 81.8]\n",
      " [ 82. ]\n",
      " [ 82.2]\n",
      " [ 82.4]\n",
      " [ 82.6]\n",
      " [ 82.8]\n",
      " [ 83. ]\n",
      " [ 83.2]\n",
      " [ 83.4]\n",
      " [ 83.6]\n",
      " [ 83.8]]\n"
     ]
    }
   ],
   "source": [
    "wht = np.reshape(wht,(40,1))\n",
    "print(wht)"
   ]
  },
  {
   "cell_type": "code",
   "execution_count": 136,
   "metadata": {},
   "outputs": [],
   "source": [
    "lbsrange = (lbsmax-lbsmin)\n",
    "lbsrange = round(lbsrange,2)"
   ]
  },
  {
   "cell_type": "code",
   "execution_count": 137,
   "metadata": {},
   "outputs": [
    {
     "name": "stdout",
     "output_type": "stream",
     "text": [
      "The range is 167.2 to 184.36 pounds, which spans 17.16 pounds.\n"
     ]
    }
   ],
   "source": [
    "print(\"The range is {} to {} pounds, which spans {} pounds.\".format(lbsmin,lbsmax,lbsrange))"
   ]
  },
  {
   "cell_type": "code",
   "execution_count": 139,
   "metadata": {},
   "outputs": [],
   "source": [
    "#power to weight matrix ranges\n",
    "ptw = ftp / wht"
   ]
  },
  {
   "cell_type": "code",
   "execution_count": 140,
   "metadata": {
    "collapsed": true
   },
   "outputs": [],
   "source": [
    "#bad\n",
    "#from bokeh.plotting import figure, output_file, show\n",
    "#output_file(\"ftp-whtplot.html\")\n",
    "#plot = figure(title=\"Power to Weight Ratio\",x_axis_label = 'Weight |(kg|)', y_axis_label = 'FTP')\n",
    "#plot.line(wht,ftp, legend=\"Power to weight\", line_width=2)"
   ]
  },
  {
   "cell_type": "code",
   "execution_count": 142,
   "metadata": {},
   "outputs": [
    {
     "data": {
      "image/png": "[encoded data removed]",
      "text/plain": [
       "<matplotlib.figure.Figure at 0x16809bbaf98>"
      ]
     },
     "metadata": {},
     "output_type": "display_data"
    }
   ],
   "source": [
    "plt.matshow(ptw)\n",
    "plt.show()"
   ]
  },
  {
   "cell_type": "code",
   "execution_count": 143,
   "metadata": {
    "collapsed": true
   },
   "outputs": [],
   "source": [
    "#bad\n",
    "#plot1 = figure(plot_width=400, plot_height=400, x_range=(70,85), y_range=(300,401))\n",
    "#plot1.image_rgba(image=[ptw], x=[80], y=[300], dw=[10], dh=[10])\n",
    "#show(plot1)"
   ]
  }
 ],
 "metadata": {
  "kernelspec": {
   "display_name": "Python 3",
   "language": "python",
   "name": "python3"
  },
  "language_info": {
   "codemirror_mode": {
    "name": "ipython",
    "version": 3
   },
   "file_extension": ".py",
   "mimetype": "text/x-python",
   "name": "python",
   "nbconvert_exporter": "python",
   "pygments_lexer": "ipython3",
   "version": "3.6.3"
  }
 },
 "nbformat": 4,
 "nbformat_minor": 2
}
